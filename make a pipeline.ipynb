{
 "cells": [
  {
   "cell_type": "code",
   "execution_count": 4,
   "metadata": {},
   "outputs": [],
   "source": [
    "import numpy as np\n",
    "import pandas as pd\n",
    "import scipy\n",
    "import sklearn\n",
    "from sklearn.pipeline import make_pipeline\n",
    "import os\n",
    "\n",
    "#skimage\n",
    "import  skimage\n",
    "import skimage.color\n",
    "import skimage.feature\n",
    "import skimage.transform\n",
    "import skimage.io"
   ]
  },
  {
   "cell_type": "code",
   "execution_count": 3,
   "metadata": {},
   "outputs": [],
   "source": [
    "from sklearn.base import BaseEstimator , TransformerMixin\n",
    "\n",
    "class rgb2gray_transform(BaseEstimator, TransformerMixin):\n",
    "    import skimage.color\n",
    "    \n",
    "    def __init__(self):\n",
    "        pass\n",
    "    def fit(self,X,y=None):\n",
    "        return self\n",
    "    \n",
    "    def transform(self,X,y=None):\n",
    "        return np.array([skimage.color.rgb2gray(x) for x in X])\n",
    "        \n",
    "class hogtransformer(BaseEstimator, TransformerMixin):\n",
    "    import skimage.feature\n",
    "    def __init__(self,orientations=9,pixels_per_cell=(8,8),cells_per_block=(3,3)):\n",
    "        self.orientations =  orientations\n",
    "        self.pixel_per_cell = pixels_per_cell\n",
    "        self.cells_per_block = cells_per_block\n",
    "        \n",
    "    def fit(self,X,y=None):\n",
    "        return self\n",
    "    \n",
    "    def transform(self,X,y=None):\n",
    "        def local_hog(img):\n",
    "            hog_features = skimage.feature.hog(img, orientations= self.orientations,\n",
    "                                pixels_per_cell = self.pixel_per_cell,\n",
    "                                cells_per_block = self.cells_per_block)\n",
    "            return hog_features\n",
    "        \n",
    "        hfeatures = np.array([local_hog(x) for x in X])\n",
    "        return hfeatures\n",
    "                    "
   ]
  },
  {
   "cell_type": "code",
   "execution_count": 14,
   "metadata": {},
   "outputs": [
    {
     "data": {
      "text/plain": [
       "array([0.20979654, 0.02552764, 0.25555313, ..., 0.04803068, 0.0377739 ,\n",
       "       0.00724294])"
      ]
     },
     "execution_count": 14,
     "metadata": {},
     "output_type": "execute_result"
    }
   ],
   "source": [
    "#make pipeline model\n",
    "import matplotlib.pyplot as plt\n",
    "image = skimage.io.imread('eagle.jpg')\n",
    "#transform iimg to 80 X 80\n",
    "image_resize= skimage.transform.resize(image,(80,80))\n",
    "image_scale = 255*image_resize\n",
    "image_transform = image_scale.astype(np.uint8)\n",
    "\n",
    "#rgb to gray\n",
    "gray = skimage.color.rgb2gray(image_transform)\n",
    "#hog transform\n",
    "feature_vector =skimage.feature.hog(gray, orientations=10,pixels_per_cell=(8,8),cells_per_block=(2,2))\n",
    "feature_vector\n"
   ]
  },
  {
   "cell_type": "code",
   "execution_count": 17,
   "metadata": {},
   "outputs": [],
   "source": [
    "import pickle\n",
    "#load the model\n",
    "model = pickle.load(open('dsa_image_classification_sgd.pickle','rb'))\n",
    "scaler= pickle.load(open('dsa_scalar.pickle','rb'))"
   ]
  },
  {
   "cell_type": "code",
   "execution_count": null,
   "metadata": {},
   "outputs": [],
   "source": []
  },
  {
   "cell_type": "code",
   "execution_count": 19,
   "metadata": {},
   "outputs": [],
   "source": [
    "scalex= scaler.transform(feature_vector.reshape(1,-1))\n",
    "result= model.predict(scalex)"
   ]
  },
  {
   "cell_type": "code",
   "execution_count": 20,
   "metadata": {},
   "outputs": [
    {
     "data": {
      "text/plain": [
       "array(['eagle'], dtype='<U8')"
      ]
     },
     "execution_count": 20,
     "metadata": {},
     "output_type": "execute_result"
    }
   ],
   "source": [
    "result"
   ]
  },
  {
   "cell_type": "code",
   "execution_count": 21,
   "metadata": {},
   "outputs": [],
   "source": [
    "#cal the probabiity\n",
    "decision_value = model.decision_function(scalex)"
   ]
  },
  {
   "cell_type": "code",
   "execution_count": 22,
   "metadata": {},
   "outputs": [
    {
     "data": {
      "text/plain": [
       "array([[-163.54726859, -168.10910308, -145.18852946, -186.71857574,\n",
       "        -218.88659592, -212.33645044,  -29.75357312,  -19.5497197 ,\n",
       "        -282.53776899, -169.61678066, -236.78661547,  -49.91828152,\n",
       "        -231.62141048, -209.30530528,  -86.98009175, -102.4916078 ,\n",
       "        -161.15185245, -158.62766999, -176.29080075, -330.10802889]])"
      ]
     },
     "execution_count": 22,
     "metadata": {},
     "output_type": "execute_result"
    }
   ],
   "source": [
    "decision_value"
   ]
  },
  {
   "cell_type": "code",
   "execution_count": 26,
   "metadata": {},
   "outputs": [],
   "source": [
    "labels= model.classes_"
   ]
  },
  {
   "cell_type": "code",
   "execution_count": 24,
   "metadata": {},
   "outputs": [],
   "source": [
    "decision_value= decision_value.flatten()"
   ]
  },
  {
   "cell_type": "code",
   "execution_count": 29,
   "metadata": {},
   "outputs": [
    {
     "data": {
      "image/png": "[encoded data removed]",
      "text/plain": [
       "<Figure size 432x288 with 1 Axes>"
      ]
     },
     "metadata": {
      "needs_background": "light"
     },
     "output_type": "display_data"
    }
   ],
   "source": [
    "plt.barh(labels, decision_value)\n",
    "plt.grid()"
   ]
  },
  {
   "cell_type": "code",
   "execution_count": 31,
   "metadata": {},
   "outputs": [
    {
     "data": {
      "text/plain": [
       "array([0.03162734, 0.02982911, 0.04002887, 0.02349267, 0.01554764,\n",
       "       0.01691093, 0.17606619, 0.20069686, 0.00686982, 0.02925757,\n",
       "       0.01235692, 0.13592549, 0.01320369, 0.01758165, 0.08448132,\n",
       "       0.06923365, 0.0326146 , 0.03368829, 0.02685622, 0.00373116])"
      ]
     },
     "execution_count": 31,
     "metadata": {},
     "output_type": "execute_result"
    }
   ],
   "source": [
    "#cal zscore\n",
    "z = scipy.stats.zscore(decision_value)\n",
    "prob_value = scipy.special.softmax(z)\n",
    "prob_value"
   ]
  },
  {
   "cell_type": "code",
   "execution_count": 32,
   "metadata": {},
   "outputs": [
    {
     "data": {
      "image/png": "[encoded data removed]",
      "text/plain": [
       "<Figure size 432x288 with 1 Axes>"
      ]
     },
     "metadata": {
      "needs_background": "light"
     },
     "output_type": "display_data"
    }
   ],
   "source": [
    "plt.barh(labels, prob_value)\n",
    "plt.grid()"
   ]
  },
  {
   "cell_type": "code",
   "execution_count": 35,
   "metadata": {},
   "outputs": [],
   "source": [
    "#top 5 prob values\n",
    "top_5_prob_index = prob_value.argsort()[::-1][:5]"
   ]
  },
  {
   "cell_type": "code",
   "execution_count": 37,
   "metadata": {},
   "outputs": [],
   "source": [
    "top_labels= labels[top_5_prob_index]\n",
    "top_prob = prob_value[top_5_prob_index]"
   ]
  },
  {
   "cell_type": "code",
   "execution_count": 38,
   "metadata": {},
   "outputs": [
    {
     "data": {
      "text/plain": [
       "(array([0.20069686, 0.17606619, 0.13592549, 0.08448132, 0.06923365]),\n",
       " array(['eagle', 'duck', 'monkey', 'panda', 'pigeon'], dtype='<U8'))"
      ]
     },
     "execution_count": 38,
     "metadata": {},
     "output_type": "execute_result"
    }
   ],
   "source": [
    "top_prob,top_labels"
   ]
  },
  {
   "cell_type": "code",
   "execution_count": 40,
   "metadata": {},
   "outputs": [],
   "source": [
    "top_dict= dict()\n",
    "for key,val in zip(top_labels,top_prob):\n",
    "    top_dict.update({key:np.round(val,2)})\n",
    "    "
   ]
  },
  {
   "cell_type": "code",
   "execution_count": 41,
   "metadata": {},
   "outputs": [
    {
     "data": {
      "text/plain": [
       "{'eagle': 0.2, 'duck': 0.18, 'monkey': 0.14, 'panda': 0.08, 'pigeon': 0.07}"
      ]
     },
     "execution_count": 41,
     "metadata": {},
     "output_type": "execute_result"
    }
   ],
   "source": [
    "top_dict"
   ]
  },
  {
   "cell_type": "code",
   "execution_count": 44,
   "metadata": {},
   "outputs": [],
   "source": [
    "def pipeline_model(path, scaler_transform,model_sgd):\n",
    "    import matplotlib.pyplot as plt\n",
    "    image = skimage.io.imread('eagle.jpg')\n",
    "#transform iimg to 80 X 80\n",
    "    image_resize= skimage.transform.resize(image,(80,80))\n",
    "    image_scale = 255*image_resize\n",
    "    image_transform = image_scale.astype(np.uint8)\n",
    "\n",
    "    #rgb to gray\n",
    "    gray = skimage.color.rgb2gray(image_transform)\n",
    "    #hog transform\n",
    "    feature_vector =skimage.feature.hog(gray, orientations=10,pixels_per_cell=(8,8),cells_per_block=(2,2))\n",
    "    feature_vector\n",
    "    #scaling\n",
    "    scalex = scaler_transform.transform(feature_vector.reshape(1,-1))\n",
    "    result = model_sgd.predict(scalex)\n",
    "    #decision function\n",
    "    decision_value = model.decision_function(scalex).flatten()\n",
    "    labels =model_sgd.classes_\n",
    "    #probability\n",
    "    z = scipy.stats.zscore(decision_value)\n",
    "    prob_value = scipy.special.softmax(z)\n",
    "    prob_value\n",
    "    #top 5\n",
    "    top_5_prob_index = prob_value.argsort()[::-1][:5]\n",
    "    top_labels= labels[top_5_prob_index]\n",
    "    top_prob = prob_value[top_5_prob_index]\n",
    "    #put it in the dict\n",
    "    top_dict= dict()\n",
    "    for key,val in zip(top_labels,top_prob):\n",
    "        top_dict.update({key:np.round(val,2)})\n",
    "    \n",
    "    \n",
    "    return top_dict"
   ]
  },
  {
   "cell_type": "code",
   "execution_count": 45,
   "metadata": {},
   "outputs": [
    {
     "data": {
      "text/plain": [
       "{'eagle': 0.2, 'duck': 0.18, 'monkey': 0.14, 'panda': 0.08, 'pigeon': 0.07}"
      ]
     },
     "execution_count": 45,
     "metadata": {},
     "output_type": "execute_result"
    }
   ],
   "source": [
    "res = pipeline_model('eagle.jpg',scaler,model)\n",
    "res"
   ]
  },
  {
   "cell_type": "code",
   "execution_count": null,
   "metadata": {},
   "outputs": [],
   "source": []
  }
 ],
 "metadata": {
  "kernelspec": {
   "display_name": "Python 3",
   "language": "python",
   "name": "python3"
  },
  "language_info": {
   "codemirror_mode": {
    "name": "ipython",
    "version": 3
   },
   "file_extension": ".py",
   "mimetype": "text/x-python",
   "name": "python",
   "nbconvert_exporter": "python",
   "pygments_lexer": "ipython3",
   "version": "3.7.6"
  }
 },
 "nbformat": 4,
 "nbformat_minor": 4
}
